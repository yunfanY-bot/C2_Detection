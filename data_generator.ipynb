{
 "cells": [
  {
   "cell_type": "code",
   "execution_count": 61,
   "metadata": {},
   "outputs": [],
   "source": []
  },
  {
   "cell_type": "code",
   "execution_count": 2,
   "metadata": {},
   "outputs": [],
   "source": [
    "file = open('dataflow_03.csv', 'r')\n",
    "new_file = open('dataflow_final_03.csv', '+a')\n",
    "\n",
    "for line in file:\n",
    "    line = line[:-1]\n",
    "    line_list = line.split(',') # remove \\n at the end of each line\n",
    "    if '24.144.84.186' in [line_list[0], line_list[1]]:\n",
    "        line_list.append('metasploit\\n')\n",
    "    elif '209.38.145.171' in [line_list[0], line_list[1]]:\n",
    "        line_list.append('metasploit\\n')\n",
    "    elif '146.190.174.24' in [line_list[0], line_list[1]]:\n",
    "        line_list.append('merlin\\n')\n",
    "    elif '64.23.181.184' in [line_list[0], line_list[1]]:\n",
    "        line_list.append('dnscat\\n')\n",
    "    else:\n",
    "        line_list.append('normal\\n')\n",
    "    \n",
    "    line_list.pop(5) # remove timestamp\n",
    "    line_list = line_list[4:]\n",
    "    new_line = ','.join(line_list)\n",
    "    new_file.write(new_line)\n",
    "    \n",
    "file.close()\n",
    "new_file.close()"
   ]
  }
 ],
 "metadata": {
  "kernelspec": {
   "display_name": "Python 3",
   "language": "python",
   "name": "python3"
  },
  "language_info": {
   "codemirror_mode": {
    "name": "ipython",
    "version": 3
   },
   "file_extension": ".py",
   "mimetype": "text/x-python",
   "name": "python",
   "nbconvert_exporter": "python",
   "pygments_lexer": "ipython3",
   "version": "3.11.8"
  }
 },
 "nbformat": 4,
 "nbformat_minor": 2
}
